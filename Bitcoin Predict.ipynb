{
 "cells": [
  {
   "cell_type": "code",
   "execution_count": 1,
   "metadata": {},
   "outputs": [],
   "source": [
    "import pandas as pd\n",
    "import seaborn as sns\n",
    "import numpy as np\n",
    "from sklearn.ensemble import RandomForestClassifier\n",
    "import matplotlib.pyplot as plt"
   ]
  },
  {
   "cell_type": "code",
   "execution_count": 2,
   "metadata": {},
   "outputs": [
    {
     "data": {
      "text/html": [
       "<div>\n",
       "<style scoped>\n",
       "    .dataframe tbody tr th:only-of-type {\n",
       "        vertical-align: middle;\n",
       "    }\n",
       "\n",
       "    .dataframe tbody tr th {\n",
       "        vertical-align: top;\n",
       "    }\n",
       "\n",
       "    .dataframe thead th {\n",
       "        text-align: right;\n",
       "    }\n",
       "</style>\n",
       "<table border=\"1\" class=\"dataframe\">\n",
       "  <thead>\n",
       "    <tr style=\"text-align: right;\">\n",
       "      <th></th>\n",
       "      <th>Date</th>\n",
       "      <th>Open Price (USD)</th>\n",
       "      <th>High Price (USD)</th>\n",
       "      <th>Low Price (USD)</th>\n",
       "      <th>Closing Price (USD)</th>\n",
       "      <th>Adjusted Closing Price (USD)</th>\n",
       "      <th>Trading Volume</th>\n",
       "    </tr>\n",
       "  </thead>\n",
       "  <tbody>\n",
       "    <tr>\n",
       "      <th>0</th>\n",
       "      <td>2023-09-06</td>\n",
       "      <td>25772.601563</td>\n",
       "      <td>25845.994141</td>\n",
       "      <td>25708.595703</td>\n",
       "      <td>25721.945313</td>\n",
       "      <td>25721.945313</td>\n",
       "      <td>10252755968</td>\n",
       "    </tr>\n",
       "    <tr>\n",
       "      <th>1</th>\n",
       "      <td>2023-09-05</td>\n",
       "      <td>25814.957031</td>\n",
       "      <td>25858.375000</td>\n",
       "      <td>25589.988281</td>\n",
       "      <td>25779.982422</td>\n",
       "      <td>25779.982422</td>\n",
       "      <td>11094740040</td>\n",
       "    </tr>\n",
       "    <tr>\n",
       "      <th>2</th>\n",
       "      <td>2023-09-04</td>\n",
       "      <td>25968.169922</td>\n",
       "      <td>26081.525391</td>\n",
       "      <td>25657.025391</td>\n",
       "      <td>25812.416016</td>\n",
       "      <td>25812.416016</td>\n",
       "      <td>10680635106</td>\n",
       "    </tr>\n",
       "    <tr>\n",
       "      <th>3</th>\n",
       "      <td>2023-09-03</td>\n",
       "      <td>25869.472656</td>\n",
       "      <td>26087.148438</td>\n",
       "      <td>25817.031250</td>\n",
       "      <td>25969.566406</td>\n",
       "      <td>25969.566406</td>\n",
       "      <td>8962524523</td>\n",
       "    </tr>\n",
       "    <tr>\n",
       "      <th>4</th>\n",
       "      <td>2023-09-02</td>\n",
       "      <td>25800.910156</td>\n",
       "      <td>25970.285156</td>\n",
       "      <td>25753.093750</td>\n",
       "      <td>25868.798828</td>\n",
       "      <td>25868.798828</td>\n",
       "      <td>10100387473</td>\n",
       "    </tr>\n",
       "  </tbody>\n",
       "</table>\n",
       "</div>"
      ],
      "text/plain": [
       "         Date  Open Price (USD)  High Price (USD)  Low Price (USD)  \\\n",
       "0  2023-09-06      25772.601563      25845.994141     25708.595703   \n",
       "1  2023-09-05      25814.957031      25858.375000     25589.988281   \n",
       "2  2023-09-04      25968.169922      26081.525391     25657.025391   \n",
       "3  2023-09-03      25869.472656      26087.148438     25817.031250   \n",
       "4  2023-09-02      25800.910156      25970.285156     25753.093750   \n",
       "\n",
       "   Closing Price (USD)  Adjusted Closing Price (USD)  Trading Volume  \n",
       "0         25721.945313                  25721.945313     10252755968  \n",
       "1         25779.982422                  25779.982422     11094740040  \n",
       "2         25812.416016                  25812.416016     10680635106  \n",
       "3         25969.566406                  25969.566406      8962524523  \n",
       "4         25868.798828                  25868.798828     10100387473  "
      ]
     },
     "execution_count": 2,
     "metadata": {},
     "output_type": "execute_result"
    }
   ],
   "source": [
    "data = pd.read_csv('bitcoin_price_dataset_2015_2023.csv')\n",
    "data.head()"
   ]
  },
  {
   "cell_type": "markdown",
   "metadata": {},
   "source": [
    "## EDA "
   ]
  },
  {
   "cell_type": "code",
   "execution_count": 3,
   "metadata": {},
   "outputs": [
    {
     "data": {
      "text/plain": [
       "Date                             object\n",
       "Open Price (USD)                float64\n",
       "High Price (USD)                float64\n",
       "Low Price (USD)                 float64\n",
       "Closing Price (USD)             float64\n",
       "Adjusted Closing Price (USD)    float64\n",
       "Trading Volume                    int64\n",
       "dtype: object"
      ]
     },
     "execution_count": 3,
     "metadata": {},
     "output_type": "execute_result"
    }
   ],
   "source": [
    "data.dtypes"
   ]
  },
  {
   "cell_type": "code",
   "execution_count": 4,
   "metadata": {},
   "outputs": [
    {
     "data": {
      "text/html": [
       "<div>\n",
       "<style scoped>\n",
       "    .dataframe tbody tr th:only-of-type {\n",
       "        vertical-align: middle;\n",
       "    }\n",
       "\n",
       "    .dataframe tbody tr th {\n",
       "        vertical-align: top;\n",
       "    }\n",
       "\n",
       "    .dataframe thead th {\n",
       "        text-align: right;\n",
       "    }\n",
       "</style>\n",
       "<table border=\"1\" class=\"dataframe\">\n",
       "  <thead>\n",
       "    <tr style=\"text-align: right;\">\n",
       "      <th></th>\n",
       "      <th>count</th>\n",
       "      <th>mean</th>\n",
       "      <th>std</th>\n",
       "      <th>min</th>\n",
       "      <th>25%</th>\n",
       "      <th>50%</th>\n",
       "      <th>75%</th>\n",
       "      <th>max</th>\n",
       "    </tr>\n",
       "  </thead>\n",
       "  <tbody>\n",
       "    <tr>\n",
       "      <th>Open Price (USD)</th>\n",
       "      <td>3171.0</td>\n",
       "      <td>1.433217e+04</td>\n",
       "      <td>1.606503e+04</td>\n",
       "      <td>1.768970e+02</td>\n",
       "      <td>1.068205e+03</td>\n",
       "      <td>8.221580e+03</td>\n",
       "      <td>2.228737e+04</td>\n",
       "      <td>6.754973e+04</td>\n",
       "    </tr>\n",
       "    <tr>\n",
       "      <th>High Price (USD)</th>\n",
       "      <td>3171.0</td>\n",
       "      <td>1.467438e+04</td>\n",
       "      <td>1.646043e+04</td>\n",
       "      <td>2.117310e+02</td>\n",
       "      <td>1.110830e+03</td>\n",
       "      <td>8.371150e+03</td>\n",
       "      <td>2.266147e+04</td>\n",
       "      <td>6.878962e+04</td>\n",
       "    </tr>\n",
       "    <tr>\n",
       "      <th>Low Price (USD)</th>\n",
       "      <td>3171.0</td>\n",
       "      <td>1.395629e+04</td>\n",
       "      <td>1.561228e+04</td>\n",
       "      <td>1.715100e+02</td>\n",
       "      <td>1.043930e+03</td>\n",
       "      <td>8.005310e+03</td>\n",
       "      <td>2.162542e+04</td>\n",
       "      <td>6.638206e+04</td>\n",
       "    </tr>\n",
       "    <tr>\n",
       "      <th>Closing Price (USD)</th>\n",
       "      <td>3171.0</td>\n",
       "      <td>1.433880e+04</td>\n",
       "      <td>1.606118e+04</td>\n",
       "      <td>1.781030e+02</td>\n",
       "      <td>1.075885e+03</td>\n",
       "      <td>8.222078e+03</td>\n",
       "      <td>2.235801e+04</td>\n",
       "      <td>6.756683e+04</td>\n",
       "    </tr>\n",
       "    <tr>\n",
       "      <th>Adjusted Closing Price (USD)</th>\n",
       "      <td>3171.0</td>\n",
       "      <td>1.433880e+04</td>\n",
       "      <td>1.606118e+04</td>\n",
       "      <td>1.781030e+02</td>\n",
       "      <td>1.075885e+03</td>\n",
       "      <td>8.222078e+03</td>\n",
       "      <td>2.235801e+04</td>\n",
       "      <td>6.756683e+04</td>\n",
       "    </tr>\n",
       "    <tr>\n",
       "      <th>Trading Volume</th>\n",
       "      <td>3171.0</td>\n",
       "      <td>1.706397e+10</td>\n",
       "      <td>1.944117e+10</td>\n",
       "      <td>7.860650e+06</td>\n",
       "      <td>2.564590e+08</td>\n",
       "      <td>1.217532e+10</td>\n",
       "      <td>2.787545e+10</td>\n",
       "      <td>3.509679e+11</td>\n",
       "    </tr>\n",
       "  </tbody>\n",
       "</table>\n",
       "</div>"
      ],
      "text/plain": [
       "                               count          mean           std  \\\n",
       "Open Price (USD)              3171.0  1.433217e+04  1.606503e+04   \n",
       "High Price (USD)              3171.0  1.467438e+04  1.646043e+04   \n",
       "Low Price (USD)               3171.0  1.395629e+04  1.561228e+04   \n",
       "Closing Price (USD)           3171.0  1.433880e+04  1.606118e+04   \n",
       "Adjusted Closing Price (USD)  3171.0  1.433880e+04  1.606118e+04   \n",
       "Trading Volume                3171.0  1.706397e+10  1.944117e+10   \n",
       "\n",
       "                                       min           25%           50%  \\\n",
       "Open Price (USD)              1.768970e+02  1.068205e+03  8.221580e+03   \n",
       "High Price (USD)              2.117310e+02  1.110830e+03  8.371150e+03   \n",
       "Low Price (USD)               1.715100e+02  1.043930e+03  8.005310e+03   \n",
       "Closing Price (USD)           1.781030e+02  1.075885e+03  8.222078e+03   \n",
       "Adjusted Closing Price (USD)  1.781030e+02  1.075885e+03  8.222078e+03   \n",
       "Trading Volume                7.860650e+06  2.564590e+08  1.217532e+10   \n",
       "\n",
       "                                       75%           max  \n",
       "Open Price (USD)              2.228737e+04  6.754973e+04  \n",
       "High Price (USD)              2.266147e+04  6.878962e+04  \n",
       "Low Price (USD)               2.162542e+04  6.638206e+04  \n",
       "Closing Price (USD)           2.235801e+04  6.756683e+04  \n",
       "Adjusted Closing Price (USD)  2.235801e+04  6.756683e+04  \n",
       "Trading Volume                2.787545e+10  3.509679e+11  "
      ]
     },
     "execution_count": 4,
     "metadata": {},
     "output_type": "execute_result"
    }
   ],
   "source": [
    "data.describe().transpose()"
   ]
  },
  {
   "cell_type": "markdown",
   "metadata": {},
   "source": [
    "## Convert Date"
   ]
  },
  {
   "cell_type": "code",
   "execution_count": 5,
   "metadata": {},
   "outputs": [
    {
     "data": {
      "text/html": [
       "<div>\n",
       "<style scoped>\n",
       "    .dataframe tbody tr th:only-of-type {\n",
       "        vertical-align: middle;\n",
       "    }\n",
       "\n",
       "    .dataframe tbody tr th {\n",
       "        vertical-align: top;\n",
       "    }\n",
       "\n",
       "    .dataframe thead th {\n",
       "        text-align: right;\n",
       "    }\n",
       "</style>\n",
       "<table border=\"1\" class=\"dataframe\">\n",
       "  <thead>\n",
       "    <tr style=\"text-align: right;\">\n",
       "      <th></th>\n",
       "      <th>Date</th>\n",
       "      <th>Open Price (USD)</th>\n",
       "      <th>High Price (USD)</th>\n",
       "      <th>Low Price (USD)</th>\n",
       "      <th>Closing Price (USD)</th>\n",
       "      <th>Adjusted Closing Price (USD)</th>\n",
       "      <th>Trading Volume</th>\n",
       "    </tr>\n",
       "  </thead>\n",
       "  <tbody>\n",
       "    <tr>\n",
       "      <th>0</th>\n",
       "      <td>2023-09-06</td>\n",
       "      <td>25772.601563</td>\n",
       "      <td>25845.994141</td>\n",
       "      <td>25708.595703</td>\n",
       "      <td>25721.945313</td>\n",
       "      <td>25721.945313</td>\n",
       "      <td>10252755968</td>\n",
       "    </tr>\n",
       "    <tr>\n",
       "      <th>1</th>\n",
       "      <td>2023-09-05</td>\n",
       "      <td>25814.957031</td>\n",
       "      <td>25858.375000</td>\n",
       "      <td>25589.988281</td>\n",
       "      <td>25779.982422</td>\n",
       "      <td>25779.982422</td>\n",
       "      <td>11094740040</td>\n",
       "    </tr>\n",
       "    <tr>\n",
       "      <th>2</th>\n",
       "      <td>2023-09-04</td>\n",
       "      <td>25968.169922</td>\n",
       "      <td>26081.525391</td>\n",
       "      <td>25657.025391</td>\n",
       "      <td>25812.416016</td>\n",
       "      <td>25812.416016</td>\n",
       "      <td>10680635106</td>\n",
       "    </tr>\n",
       "    <tr>\n",
       "      <th>3</th>\n",
       "      <td>2023-09-03</td>\n",
       "      <td>25869.472656</td>\n",
       "      <td>26087.148438</td>\n",
       "      <td>25817.031250</td>\n",
       "      <td>25969.566406</td>\n",
       "      <td>25969.566406</td>\n",
       "      <td>8962524523</td>\n",
       "    </tr>\n",
       "    <tr>\n",
       "      <th>4</th>\n",
       "      <td>2023-09-02</td>\n",
       "      <td>25800.910156</td>\n",
       "      <td>25970.285156</td>\n",
       "      <td>25753.093750</td>\n",
       "      <td>25868.798828</td>\n",
       "      <td>25868.798828</td>\n",
       "      <td>10100387473</td>\n",
       "    </tr>\n",
       "    <tr>\n",
       "      <th>...</th>\n",
       "      <td>...</td>\n",
       "      <td>...</td>\n",
       "      <td>...</td>\n",
       "      <td>...</td>\n",
       "      <td>...</td>\n",
       "      <td>...</td>\n",
       "      <td>...</td>\n",
       "    </tr>\n",
       "    <tr>\n",
       "      <th>3166</th>\n",
       "      <td>2015-01-05</td>\n",
       "      <td>265.084015</td>\n",
       "      <td>278.341003</td>\n",
       "      <td>265.084015</td>\n",
       "      <td>274.473999</td>\n",
       "      <td>274.473999</td>\n",
       "      <td>43962800</td>\n",
       "    </tr>\n",
       "    <tr>\n",
       "      <th>3167</th>\n",
       "      <td>2015-01-04</td>\n",
       "      <td>281.145996</td>\n",
       "      <td>287.230011</td>\n",
       "      <td>257.612000</td>\n",
       "      <td>264.195007</td>\n",
       "      <td>264.195007</td>\n",
       "      <td>55629100</td>\n",
       "    </tr>\n",
       "    <tr>\n",
       "      <th>3168</th>\n",
       "      <td>2015-01-03</td>\n",
       "      <td>314.846008</td>\n",
       "      <td>315.149994</td>\n",
       "      <td>281.082001</td>\n",
       "      <td>281.082001</td>\n",
       "      <td>281.082001</td>\n",
       "      <td>33054400</td>\n",
       "    </tr>\n",
       "    <tr>\n",
       "      <th>3169</th>\n",
       "      <td>2015-01-02</td>\n",
       "      <td>314.079010</td>\n",
       "      <td>315.838989</td>\n",
       "      <td>313.565002</td>\n",
       "      <td>315.032013</td>\n",
       "      <td>315.032013</td>\n",
       "      <td>7860650</td>\n",
       "    </tr>\n",
       "    <tr>\n",
       "      <th>3170</th>\n",
       "      <td>2015-01-01</td>\n",
       "      <td>320.434998</td>\n",
       "      <td>320.434998</td>\n",
       "      <td>314.002991</td>\n",
       "      <td>314.248993</td>\n",
       "      <td>314.248993</td>\n",
       "      <td>8036550</td>\n",
       "    </tr>\n",
       "  </tbody>\n",
       "</table>\n",
       "<p>3171 rows × 7 columns</p>\n",
       "</div>"
      ],
      "text/plain": [
       "           Date  Open Price (USD)  High Price (USD)  Low Price (USD)  \\\n",
       "0    2023-09-06      25772.601563      25845.994141     25708.595703   \n",
       "1    2023-09-05      25814.957031      25858.375000     25589.988281   \n",
       "2    2023-09-04      25968.169922      26081.525391     25657.025391   \n",
       "3    2023-09-03      25869.472656      26087.148438     25817.031250   \n",
       "4    2023-09-02      25800.910156      25970.285156     25753.093750   \n",
       "...         ...               ...               ...              ...   \n",
       "3166 2015-01-05        265.084015        278.341003       265.084015   \n",
       "3167 2015-01-04        281.145996        287.230011       257.612000   \n",
       "3168 2015-01-03        314.846008        315.149994       281.082001   \n",
       "3169 2015-01-02        314.079010        315.838989       313.565002   \n",
       "3170 2015-01-01        320.434998        320.434998       314.002991   \n",
       "\n",
       "      Closing Price (USD)  Adjusted Closing Price (USD)  Trading Volume  \n",
       "0            25721.945313                  25721.945313     10252755968  \n",
       "1            25779.982422                  25779.982422     11094740040  \n",
       "2            25812.416016                  25812.416016     10680635106  \n",
       "3            25969.566406                  25969.566406      8962524523  \n",
       "4            25868.798828                  25868.798828     10100387473  \n",
       "...                   ...                           ...             ...  \n",
       "3166           274.473999                    274.473999        43962800  \n",
       "3167           264.195007                    264.195007        55629100  \n",
       "3168           281.082001                    281.082001        33054400  \n",
       "3169           315.032013                    315.032013         7860650  \n",
       "3170           314.248993                    314.248993         8036550  \n",
       "\n",
       "[3171 rows x 7 columns]"
      ]
     },
     "execution_count": 5,
     "metadata": {},
     "output_type": "execute_result"
    }
   ],
   "source": [
    "data['Date'] = pd.to_datetime(data['Date'])\n",
    "data"
   ]
  },
  {
   "cell_type": "markdown",
   "metadata": {},
   "source": [
    "## VISUALIZATION"
   ]
  },
  {
   "cell_type": "code",
   "execution_count": 6,
   "metadata": {},
   "outputs": [
    {
     "data": {
      "image/png": "[encoded data removed]",
      "text/plain": [
       "<Figure size 720x432 with 1 Axes>"
      ]
     },
     "metadata": {
      "needs_background": "light"
     },
     "output_type": "display_data"
    }
   ],
   "source": [
    "plt.figure(figsize=(10,6))\n",
    "\n",
    "plt.plot(data['Date'], data['Trading Volume'])\n",
    "plt.title('Bitcoin Trading Volume Over Time')\n",
    "plt.xlabel('Date')\n",
    "plt.ylabel('Trading Volume')\n",
    "\n",
    "plt.grid(True)\n",
    "plt.tight_layout()\n",
    "\n",
    "plt.show()"
   ]
  },
  {
   "cell_type": "code",
   "execution_count": 7,
   "metadata": {},
   "outputs": [
    {
     "data": {
      "image/png": "[encoded data removed]",
      "text/plain": [
       "<Figure size 720x432 with 1 Axes>"
      ]
     },
     "metadata": {
      "needs_background": "light"
     },
     "output_type": "display_data"
    }
   ],
   "source": [
    "plt.figure(figsize=(10,6))\n",
    "\n",
    "plt.plot(data['Date'], data['Closing Price (USD)'], linestyle='-')\n",
    "plt.title('Bitcoin Price Over Time')\n",
    "plt.xlabel('Date')\n",
    "plt.ylabel('Price (USD)')\n",
    "\n",
    "plt.grid(True)\n",
    "plt.tight_layout()\n",
    "\n",
    "plt.show()"
   ]
  },
  {
   "cell_type": "code",
   "execution_count": 8,
   "metadata": {},
   "outputs": [
    {
     "data": {
      "image/png": "[encoded data removed]",
      "text/plain": [
       "<Figure size 720x432 with 1 Axes>"
      ]
     },
     "metadata": {
      "needs_background": "light"
     },
     "output_type": "display_data"
    }
   ],
   "source": [
    "diff= data['Open Price (USD)']-data['Closing Price (USD)']\n",
    "\n",
    "plt.figure(figsize=(10,6))\n",
    "sns.lineplot(x=data['Date'], y=diff.values)\n",
    "\n",
    "plt.title('Difference in Open & Close Price')\n",
    "plt.xlabel('Year')\n",
    "plt.ylabel('Difference in Opening and Closing Price')\n",
    "plt.show()"
   ]
  },
  {
   "cell_type": "markdown",
   "metadata": {},
   "source": [
    "## AVERAGE BITCOIN PER-YEAR"
   ]
  },
  {
   "cell_type": "code",
   "execution_count": 9,
   "metadata": {},
   "outputs": [
    {
     "data": {
      "text/html": [
       "<div>\n",
       "<style scoped>\n",
       "    .dataframe tbody tr th:only-of-type {\n",
       "        vertical-align: middle;\n",
       "    }\n",
       "\n",
       "    .dataframe tbody tr th {\n",
       "        vertical-align: top;\n",
       "    }\n",
       "\n",
       "    .dataframe thead th {\n",
       "        text-align: right;\n",
       "    }\n",
       "</style>\n",
       "<table border=\"1\" class=\"dataframe\">\n",
       "  <thead>\n",
       "    <tr style=\"text-align: right;\">\n",
       "      <th></th>\n",
       "      <th>Open Price (USD)</th>\n",
       "      <th>High Price (USD)</th>\n",
       "      <th>Low Price (USD)</th>\n",
       "      <th>Closing Price (USD)</th>\n",
       "      <th>Adjusted Closing Price (USD)</th>\n",
       "      <th>Trading Volume</th>\n",
       "    </tr>\n",
       "    <tr>\n",
       "      <th>Date</th>\n",
       "      <th></th>\n",
       "      <th></th>\n",
       "      <th></th>\n",
       "      <th></th>\n",
       "      <th></th>\n",
       "      <th></th>\n",
       "    </tr>\n",
       "  </thead>\n",
       "  <tbody>\n",
       "    <tr>\n",
       "      <th>2023-09-06</th>\n",
       "      <td>25772.601563</td>\n",
       "      <td>25845.994141</td>\n",
       "      <td>25708.595703</td>\n",
       "      <td>25721.945313</td>\n",
       "      <td>25721.945313</td>\n",
       "      <td>10252755968</td>\n",
       "    </tr>\n",
       "    <tr>\n",
       "      <th>2023-09-05</th>\n",
       "      <td>25814.957031</td>\n",
       "      <td>25858.375000</td>\n",
       "      <td>25589.988281</td>\n",
       "      <td>25779.982422</td>\n",
       "      <td>25779.982422</td>\n",
       "      <td>11094740040</td>\n",
       "    </tr>\n",
       "    <tr>\n",
       "      <th>2023-09-04</th>\n",
       "      <td>25968.169922</td>\n",
       "      <td>26081.525391</td>\n",
       "      <td>25657.025391</td>\n",
       "      <td>25812.416016</td>\n",
       "      <td>25812.416016</td>\n",
       "      <td>10680635106</td>\n",
       "    </tr>\n",
       "    <tr>\n",
       "      <th>2023-09-03</th>\n",
       "      <td>25869.472656</td>\n",
       "      <td>26087.148438</td>\n",
       "      <td>25817.031250</td>\n",
       "      <td>25969.566406</td>\n",
       "      <td>25969.566406</td>\n",
       "      <td>8962524523</td>\n",
       "    </tr>\n",
       "    <tr>\n",
       "      <th>2023-09-02</th>\n",
       "      <td>25800.910156</td>\n",
       "      <td>25970.285156</td>\n",
       "      <td>25753.093750</td>\n",
       "      <td>25868.798828</td>\n",
       "      <td>25868.798828</td>\n",
       "      <td>10100387473</td>\n",
       "    </tr>\n",
       "    <tr>\n",
       "      <th>...</th>\n",
       "      <td>...</td>\n",
       "      <td>...</td>\n",
       "      <td>...</td>\n",
       "      <td>...</td>\n",
       "      <td>...</td>\n",
       "      <td>...</td>\n",
       "    </tr>\n",
       "    <tr>\n",
       "      <th>2015-01-05</th>\n",
       "      <td>265.084015</td>\n",
       "      <td>278.341003</td>\n",
       "      <td>265.084015</td>\n",
       "      <td>274.473999</td>\n",
       "      <td>274.473999</td>\n",
       "      <td>43962800</td>\n",
       "    </tr>\n",
       "    <tr>\n",
       "      <th>2015-01-04</th>\n",
       "      <td>281.145996</td>\n",
       "      <td>287.230011</td>\n",
       "      <td>257.612000</td>\n",
       "      <td>264.195007</td>\n",
       "      <td>264.195007</td>\n",
       "      <td>55629100</td>\n",
       "    </tr>\n",
       "    <tr>\n",
       "      <th>2015-01-03</th>\n",
       "      <td>314.846008</td>\n",
       "      <td>315.149994</td>\n",
       "      <td>281.082001</td>\n",
       "      <td>281.082001</td>\n",
       "      <td>281.082001</td>\n",
       "      <td>33054400</td>\n",
       "    </tr>\n",
       "    <tr>\n",
       "      <th>2015-01-02</th>\n",
       "      <td>314.079010</td>\n",
       "      <td>315.838989</td>\n",
       "      <td>313.565002</td>\n",
       "      <td>315.032013</td>\n",
       "      <td>315.032013</td>\n",
       "      <td>7860650</td>\n",
       "    </tr>\n",
       "    <tr>\n",
       "      <th>2015-01-01</th>\n",
       "      <td>320.434998</td>\n",
       "      <td>320.434998</td>\n",
       "      <td>314.002991</td>\n",
       "      <td>314.248993</td>\n",
       "      <td>314.248993</td>\n",
       "      <td>8036550</td>\n",
       "    </tr>\n",
       "  </tbody>\n",
       "</table>\n",
       "<p>3171 rows × 6 columns</p>\n",
       "</div>"
      ],
      "text/plain": [
       "            Open Price (USD)  High Price (USD)  Low Price (USD)  \\\n",
       "Date                                                              \n",
       "2023-09-06      25772.601563      25845.994141     25708.595703   \n",
       "2023-09-05      25814.957031      25858.375000     25589.988281   \n",
       "2023-09-04      25968.169922      26081.525391     25657.025391   \n",
       "2023-09-03      25869.472656      26087.148438     25817.031250   \n",
       "2023-09-02      25800.910156      25970.285156     25753.093750   \n",
       "...                      ...               ...              ...   \n",
       "2015-01-05        265.084015        278.341003       265.084015   \n",
       "2015-01-04        281.145996        287.230011       257.612000   \n",
       "2015-01-03        314.846008        315.149994       281.082001   \n",
       "2015-01-02        314.079010        315.838989       313.565002   \n",
       "2015-01-01        320.434998        320.434998       314.002991   \n",
       "\n",
       "            Closing Price (USD)  Adjusted Closing Price (USD)  Trading Volume  \n",
       "Date                                                                           \n",
       "2023-09-06         25721.945313                  25721.945313     10252755968  \n",
       "2023-09-05         25779.982422                  25779.982422     11094740040  \n",
       "2023-09-04         25812.416016                  25812.416016     10680635106  \n",
       "2023-09-03         25969.566406                  25969.566406      8962524523  \n",
       "2023-09-02         25868.798828                  25868.798828     10100387473  \n",
       "...                         ...                           ...             ...  \n",
       "2015-01-05           274.473999                    274.473999        43962800  \n",
       "2015-01-04           264.195007                    264.195007        55629100  \n",
       "2015-01-03           281.082001                    281.082001        33054400  \n",
       "2015-01-02           315.032013                    315.032013         7860650  \n",
       "2015-01-01           314.248993                    314.248993         8036550  \n",
       "\n",
       "[3171 rows x 6 columns]"
      ]
     },
     "execution_count": 9,
     "metadata": {},
     "output_type": "execute_result"
    }
   ],
   "source": [
    "data.set_index('Date', inplace=True)\n",
    "data"
   ]
  },
  {
   "cell_type": "code",
   "execution_count": 10,
   "metadata": {},
   "outputs": [
    {
     "data": {
      "text/plain": [
       "Date\n",
       "2015-12-31      272.149011\n",
       "2016-12-31      567.141429\n",
       "2017-12-31     3970.644848\n",
       "2018-12-31     7601.018680\n",
       "2019-12-31     7385.218456\n",
       "2020-12-31    11056.787201\n",
       "2021-12-31    47402.115663\n",
       "2022-12-31    28278.690293\n",
       "2023-12-31    26308.720805\n",
       "Freq: A-DEC, Name: Open Price (USD), dtype: float64"
      ]
     },
     "execution_count": 10,
     "metadata": {},
     "output_type": "execute_result"
    }
   ],
   "source": [
    "avg_price = data['Open Price (USD)'].resample('Y').mean()\n",
    "avg_price"
   ]
  },
  {
   "cell_type": "code",
   "execution_count": 11,
   "metadata": {},
   "outputs": [
    {
     "data": {
      "image/png": "[encoded data removed]",
      "text/plain": [
       "<Figure size 720x432 with 1 Axes>"
      ]
     },
     "metadata": {
      "needs_background": "light"
     },
     "output_type": "display_data"
    }
   ],
   "source": [
    "plt.figure(figsize=(10,6))\n",
    "plt.plot(avg_price.index.year, avg_price.values, marker='o')\n",
    "\n",
    "\n",
    "plt.title('Average Bitcoin by Year')\n",
    "plt.xlabel('Year')\n",
    "plt.ylabel('Average Price (USD)')\n",
    "\n",
    "plt.grid(True)\n",
    "plt.tight_layout()\n",
    "\n",
    "plt.show()"
   ]
  },
  {
   "cell_type": "markdown",
   "metadata": {},
   "source": [
    "## Train Test Split"
   ]
  },
  {
   "cell_type": "code",
   "execution_count": 12,
   "metadata": {},
   "outputs": [],
   "source": [
    "# Create X and y for train test split\n",
    "\n",
    "X = data.drop('Closing Price (USD)', axis=1)\n",
    "y = data['Closing Price (USD)']"
   ]
  },
  {
   "cell_type": "code",
   "execution_count": 13,
   "metadata": {},
   "outputs": [
    {
     "data": {
      "text/plain": [
       "((2536, 5), (2536,))"
      ]
     },
     "execution_count": 13,
     "metadata": {},
     "output_type": "execute_result"
    }
   ],
   "source": [
    "\n",
    "\n",
    "from sklearn.model_selection import train_test_split\n",
    "\n",
    "X_train, X_test, y_train, y_test = train_test_split(X,y, test_size=0.2, random_state=42)\n",
    "\n",
    "(X_train.shape), (y_train.shape)"
   ]
  },
  {
   "cell_type": "code",
   "execution_count": 16,
   "metadata": {},
   "outputs": [
    {
     "name": "stdout",
     "output_type": "stream",
     "text": [
      "R-Squared (Random Forest): 0.9999853838938855\n"
     ]
    },
    {
     "data": {
      "image/png": "[encoded data removed]",
      "text/plain": [
       "<Figure size 1080x288 with 1 Axes>"
      ]
     },
     "metadata": {
      "needs_background": "light"
     },
     "output_type": "display_data"
    }
   ],
   "source": [
    "# Model predict with Random Forest\n",
    "\n",
    "from sklearn.ensemble import RandomForestRegressor\n",
    "from sklearn.metrics import r2_score\n",
    "\n",
    "btc_model = RandomForestRegressor(n_estimators=100, random_state=42)\n",
    "btc_model.fit(X_train, y_train)\n",
    "\n",
    "btc_pred = btc_model.predict(X_test)\n",
    "score = r2_score(y_test, btc_pred)\n",
    "\n",
    "plt.figure(figsize=(15,4))\n",
    "plt.scatter(y_test, btc_pred)\n",
    "plt.xlabel('Actual Price')\n",
    "plt.ylabel('Predict')\n",
    "plt.title('Random Forest: Actual vs Predicted')\n",
    "\n",
    "print(f'R-Squared (Random Forest): {score}')\n",
    "\n",
    "plt.show()"
   ]
  },
  {
   "cell_type": "code",
   "execution_count": 15,
   "metadata": {},
   "outputs": [
    {
     "data": {
      "image/png": "[encoded data removed]",
      "text/plain": [
       "<Figure size 1080x288 with 1 Axes>"
      ]
     },
     "metadata": {
      "needs_background": "light"
     },
     "output_type": "display_data"
    },
    {
     "name": "stdout",
     "output_type": "stream",
     "text": [
      "R-squared (XGBoost): 0.9999007948900527\n"
     ]
    }
   ],
   "source": [
    "# Model predict with XgBoost\n",
    "\n",
    "from xgboost import XGBRegressor\n",
    "\n",
    "xgb_model = XGBRegressor(n_estimators=100, random_state=42)\n",
    "xgb_model.fit(X_train, y_train)\n",
    "\n",
    "y_pred_xgb = xgb_model.predict(X_test)\n",
    "r_squared_xgb = r2_score(y_test, y_pred_xgb)\n",
    "\n",
    "plt.figure(figsize=(15, 4))\n",
    "plt.scatter(y_test, y_pred_xgb, color='orange')\n",
    "plt.xlabel('Actual')\n",
    "plt.ylabel('Predicted')\n",
    "plt.title('XGBoost: Actual vs. Predicted')\n",
    "plt.show()\n",
    "\n",
    "print(f'R-squared (XGBoost): {r_squared_xgb}')"
   ]
  },
  {
   "cell_type": "markdown",
   "metadata": {},
   "source": [
    "**RESULT**\n",
    "\n",
    "The performance of the models was evaluated using the R-square metric. Which measures the proportion of the variance in the dependent variable that is predictable from the independent variables.\n",
    "\n",
    "\n",
    "1. Random Forest\n",
    "    - R-squared: 0.999985\n",
    "    - The Random Forest model achieved a R-squared value of approximately 0.999985, indicating that it explains about 99.9985% of the variance in Bitcoin Closing Price.\n",
    "\n",
    "2. XgBoost\n",
    "    - R-squared: 0.999900\n",
    "    - The XgBoost model achieved a R-squared value of approximately 0.999900, indicating that it explains about 99.9900% of the variance in Bitcoin Closing Price.\n",
    "\n",
    "Based on the results, the Random Forest model showed sightly higher R-square values. It may be better at capturing the underlying relationships in the data.\n",
    "\n",
    "In conclusion, both Random Forest and XGBoost models can be considered as viable options for predicting Bitcoin closing price."
   ]
  }
 ],
 "metadata": {
  "kernelspec": {
   "display_name": "Python 3",
   "language": "python",
   "name": "python3"
  },
  "language_info": {
   "codemirror_mode": {
    "name": "ipython",
    "version": 3
   },
   "file_extension": ".py",
   "mimetype": "text/x-python",
   "name": "python",
   "nbconvert_exporter": "python",
   "pygments_lexer": "ipython3",
   "version": "3.9.0"
  }
 },
 "nbformat": 4,
 "nbformat_minor": 4
}
